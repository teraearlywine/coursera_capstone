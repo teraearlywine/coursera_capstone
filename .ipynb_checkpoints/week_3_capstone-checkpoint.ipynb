{
 "cells": [
  {
   "cell_type": "markdown",
   "metadata": {},
   "source": [
    "Coursera Capstone Project - Week 3, \n",
    "Toronto Neighborhood K-Mean Clustering"
   ]
  },
  {
   "cell_type": "code",
   "execution_count": 1,
   "metadata": {},
   "outputs": [],
   "source": [
    "##for importing HTML data from Toronto, Canada\n",
    "import urllib.request\n",
    "url = \"https://en.wikipedia.org/wiki/List_of_postal_codes_of_Canada:_M\"\n",
    "page = urllib.request.urlopen(url)"
   ]
  },
  {
   "cell_type": "code",
   "execution_count": 2,
   "metadata": {},
   "outputs": [
    {
     "data": {
      "text/plain": [
       "<http.client.HTTPResponse at 0x7ff1587b06d0>"
      ]
     },
     "execution_count": 2,
     "metadata": {},
     "output_type": "execute_result"
    }
   ],
   "source": [
    "page"
   ]
  },
  {
   "cell_type": "code",
   "execution_count": 3,
   "metadata": {},
   "outputs": [],
   "source": [
    "#import beautiful soup to format HTML\n",
    "from bs4 import BeautifulSoup"
   ]
  },
  {
   "cell_type": "code",
   "execution_count": 4,
   "metadata": {},
   "outputs": [],
   "source": [
    "#jupyter prefers parse type\n",
    "soup = BeautifulSoup(page, \"lxml\")"
   ]
  },
  {
   "cell_type": "markdown",
   "metadata": {},
   "source": [
    "#table starts with <table> tag <table class = \"wikitable sorttable\">"
   ]
  },
  {
   "cell_type": "code",
   "execution_count": 5,
   "metadata": {},
   "outputs": [],
   "source": [
    "right_table = soup.find('table', class_='wikitable sortable')"
   ]
  },
  {
   "cell_type": "code",
   "execution_count": 6,
   "metadata": {},
   "outputs": [],
   "source": [
    "A=[]\n",
    "B=[]\n",
    "C=[]\n",
    "for row in right_table.findAll('tr'):\n",
    "    cells=row.findAll('td')\n",
    "    if len(cells)==3:\n",
    "        A.append(cells[0].find(text=True))\n",
    "        B.append(cells[1].find(text=True))\n",
    "        C.append(cells[2].find(text=True))"
   ]
  },
  {
   "cell_type": "code",
   "execution_count": 7,
   "metadata": {},
   "outputs": [],
   "source": [
    "import pandas as pd"
   ]
  },
  {
   "cell_type": "code",
   "execution_count": 8,
   "metadata": {},
   "outputs": [
    {
     "data": {
      "text/html": [
       "<div>\n",
       "<style scoped>\n",
       "    .dataframe tbody tr th:only-of-type {\n",
       "        vertical-align: middle;\n",
       "    }\n",
       "\n",
       "    .dataframe tbody tr th {\n",
       "        vertical-align: top;\n",
       "    }\n",
       "\n",
       "    .dataframe thead th {\n",
       "        text-align: right;\n",
       "    }\n",
       "</style>\n",
       "<table border=\"1\" class=\"dataframe\">\n",
       "  <thead>\n",
       "    <tr style=\"text-align: right;\">\n",
       "      <th></th>\n",
       "      <th>Postal Code</th>\n",
       "      <th>Borough</th>\n",
       "      <th>Neighbourhood</th>\n",
       "    </tr>\n",
       "  </thead>\n",
       "  <tbody>\n",
       "    <tr>\n",
       "      <th>0</th>\n",
       "      <td>M1A</td>\n",
       "      <td>Notassigned</td>\n",
       "      <td>Notassigned</td>\n",
       "    </tr>\n",
       "    <tr>\n",
       "      <th>1</th>\n",
       "      <td>M2A</td>\n",
       "      <td>Notassigned</td>\n",
       "      <td>Notassigned</td>\n",
       "    </tr>\n",
       "    <tr>\n",
       "      <th>2</th>\n",
       "      <td>M3A</td>\n",
       "      <td>NorthYork</td>\n",
       "      <td>Parkwoods</td>\n",
       "    </tr>\n",
       "    <tr>\n",
       "      <th>3</th>\n",
       "      <td>M4A</td>\n",
       "      <td>NorthYork</td>\n",
       "      <td>VictoriaVillage</td>\n",
       "    </tr>\n",
       "    <tr>\n",
       "      <th>4</th>\n",
       "      <td>M5A</td>\n",
       "      <td>DowntownToronto</td>\n",
       "      <td>RegentPark,Harbourfront</td>\n",
       "    </tr>\n",
       "    <tr>\n",
       "      <th>...</th>\n",
       "      <td>...</td>\n",
       "      <td>...</td>\n",
       "      <td>...</td>\n",
       "    </tr>\n",
       "    <tr>\n",
       "      <th>175</th>\n",
       "      <td>M5Z</td>\n",
       "      <td>Notassigned</td>\n",
       "      <td>Notassigned</td>\n",
       "    </tr>\n",
       "    <tr>\n",
       "      <th>176</th>\n",
       "      <td>M6Z</td>\n",
       "      <td>Notassigned</td>\n",
       "      <td>Notassigned</td>\n",
       "    </tr>\n",
       "    <tr>\n",
       "      <th>177</th>\n",
       "      <td>M7Z</td>\n",
       "      <td>Notassigned</td>\n",
       "      <td>Notassigned</td>\n",
       "    </tr>\n",
       "    <tr>\n",
       "      <th>178</th>\n",
       "      <td>M8Z</td>\n",
       "      <td>Etobicoke</td>\n",
       "      <td>MimicoNW,TheQueenswayWest,SouthofBloor,Kingswa...</td>\n",
       "    </tr>\n",
       "    <tr>\n",
       "      <th>179</th>\n",
       "      <td>M9Z</td>\n",
       "      <td>Notassigned</td>\n",
       "      <td>Notassigned</td>\n",
       "    </tr>\n",
       "  </tbody>\n",
       "</table>\n",
       "<p>180 rows × 3 columns</p>\n",
       "</div>"
      ],
      "text/plain": [
       "    Postal Code          Borough  \\\n",
       "0           M1A      Notassigned   \n",
       "1           M2A      Notassigned   \n",
       "2           M3A        NorthYork   \n",
       "3           M4A        NorthYork   \n",
       "4           M5A  DowntownToronto   \n",
       "..          ...              ...   \n",
       "175         M5Z      Notassigned   \n",
       "176         M6Z      Notassigned   \n",
       "177         M7Z      Notassigned   \n",
       "178         M8Z        Etobicoke   \n",
       "179         M9Z      Notassigned   \n",
       "\n",
       "                                         Neighbourhood  \n",
       "0                                          Notassigned  \n",
       "1                                          Notassigned  \n",
       "2                                            Parkwoods  \n",
       "3                                      VictoriaVillage  \n",
       "4                              RegentPark,Harbourfront  \n",
       "..                                                 ...  \n",
       "175                                        Notassigned  \n",
       "176                                        Notassigned  \n",
       "177                                        Notassigned  \n",
       "178  MimicoNW,TheQueenswayWest,SouthofBloor,Kingswa...  \n",
       "179                                        Notassigned  \n",
       "\n",
       "[180 rows x 3 columns]"
      ]
     },
     "execution_count": 8,
     "metadata": {},
     "output_type": "execute_result"
    }
   ],
   "source": [
    "df = pd.DataFrame(A, columns = ['Postal Code'])\n",
    "df['Borough']=B\n",
    "df['Neighbourhood']=C\n",
    "df.replace(r'\\s', '', regex = True, inplace = True)\n",
    "df"
   ]
  },
  {
   "cell_type": "code",
   "execution_count": 9,
   "metadata": {},
   "outputs": [],
   "source": [
    "#Drop not assigned boroughs\n",
    "cleaned_df = df[df.Borough != 'Notassigned']"
   ]
  },
  {
   "cell_type": "code",
   "execution_count": 10,
   "metadata": {},
   "outputs": [
    {
     "name": "stdout",
     "output_type": "stream",
     "text": [
      "    Postal Code          Borough  \\\n",
      "2           M3A        NorthYork   \n",
      "3           M4A        NorthYork   \n",
      "4           M5A  DowntownToronto   \n",
      "5           M6A        NorthYork   \n",
      "6           M7A  DowntownToronto   \n",
      "..          ...              ...   \n",
      "160         M8X        Etobicoke   \n",
      "165         M4Y  DowntownToronto   \n",
      "168         M7Y      EastToronto   \n",
      "169         M8Y        Etobicoke   \n",
      "178         M8Z        Etobicoke   \n",
      "\n",
      "                                         Neighbourhood  \n",
      "2                                            Parkwoods  \n",
      "3                                      VictoriaVillage  \n",
      "4                              RegentPark,Harbourfront  \n",
      "5                        LawrenceManor,LawrenceHeights  \n",
      "6              Queen'sPark,OntarioProvincialGovernment  \n",
      "..                                                 ...  \n",
      "160            TheKingsway,MontgomeryRoad,OldMillNorth  \n",
      "165                                 ChurchandWellesley  \n",
      "168  BusinessreplymailProcessingCentre,SouthCentral...  \n",
      "169  OldMillSouth,King'sMillPark,Sunnylea,HumberBay...  \n",
      "178  MimicoNW,TheQueenswayWest,SouthofBloor,Kingswa...  \n",
      "\n",
      "[103 rows x 3 columns]\n"
     ]
    }
   ],
   "source": [
    "#display data\n",
    "print(cleaned_df)"
   ]
  }
 ],
 "metadata": {
  "kernelspec": {
   "display_name": "Python 3",
   "language": "python",
   "name": "python3"
  },
  "language_info": {
   "codemirror_mode": {
    "name": "ipython",
    "version": 3
   },
   "file_extension": ".py",
   "mimetype": "text/x-python",
   "name": "python",
   "nbconvert_exporter": "python",
   "pygments_lexer": "ipython3",
   "version": "3.7.6"
  }
 },
 "nbformat": 4,
 "nbformat_minor": 4
}
